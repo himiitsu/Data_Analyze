{
 "cells": [
  {
   "cell_type": "code",
   "execution_count": 36,
   "metadata": {},
   "outputs": [
    {
     "name": "stdout",
     "output_type": "stream",
     "text": [
      "0      0.197802\n",
      "1      0.200704\n",
      "2      0.287532\n",
      "3      0.270677\n",
      "4      0.439331\n",
      "         ...   \n",
      "179    0.374055\n",
      "180    0.423216\n",
      "181    0.383515\n",
      "182    0.482902\n",
      "183    0.365867\n",
      "Name: conversion, Length: 184, dtype: float64\n"
     ]
    }
   ],
   "source": [
    "import os\n",
    "import pandas as pd\n",
    "from sqlalchemy import create_engine\n",
    "\n",
    "\n",
    "postgres_host = '40.89.151.14' #os.environ['APP_POSTGRES_HOST']\n",
    "database = 'postgres'\n",
    "port = '5433'\n",
    "user = 'mai'\n",
    "password = '1930'\n",
    "\n",
    "engine = create_engine(\n",
    "    f'postgresql://{user}:{password}@{postgres_host}:{port}/{database}'\n",
    ")\n",
    "\n",
    "sql_str = \"\"\"\n",
    "SELECT\n",
    "    date,\n",
    "    subsite_title,\n",
    "    SUM(content_watch)::float / SUM(content_impression)::float as conversion\n",
    "FROM (\n",
    "    SELECT\n",
    "        user_id_for_mai,\n",
    "        content_id,\n",
    "        subsite_title,\n",
    "        to_char(to_timestamp(rocket_datetime), 'YYYY-MM-DD') as date,\n",
    "        MAX(CASE WHEN name in ('page_impression', 'click') THEN 1 ELSE 0 END) as content_impression,\n",
    "        MAX(CASE WHEN name='content_watch' THEN 1 ELSE 0 END) as content_watch\n",
    "    FROM movie.events\n",
    "    WHERE\n",
    "        content_id > 0\n",
    "        AND subsite_title in ('xboxOne', 'Windows 10')\n",
    "    GROUP BY user_id_for_mai, content_id, date, subsite_title\n",
    ") as content_watches\n",
    "WHERE\n",
    "    content_impression > 0\n",
    "GROUP BY date, subsite_title\n",
    "ORDER BY date, subsite_title\n",
    "\"\"\"\n",
    "\n",
    "conversion_df = pd.read_sql(sql_str, engine)\n",
    "\n",
    "conversion_df.head()\n",
    "\n",
    "print(conversion_df.conversion)"
   ]
  },
  {
   "cell_type": "code",
   "execution_count": 52,
   "metadata": {},
   "outputs": [
    {
     "name": "stdout",
     "output_type": "stream",
     "text": [
      "0.4174715763462347 0.33164119584125995\n"
     ]
    }
   ],
   "source": [
    "win_conversion_sum = 0\n",
    "xbox_conversion_sum = 0\n",
    "for i in conversion_df[conversion_df['subsite_title'] == 'Windows 10'].conversion:\n",
    "    win_conversion_sum = win_conversion_sum + i\n",
    "    \n",
    "for j in conversion_df[conversion_df['subsite_title'] == 'xboxOne'].conversion:\n",
    "    xbox_conversion_sum = xbox_conversion_sum + j\n",
    "\n",
    "\n",
    "win_conversion = win_conversion_sum/len(conversion_df[conversion_df['subsite_title'] == 'Windows 10'])\n",
    "xbox_conversion = xbox_conversion_sum/len(conversion_df[conversion_df['subsite_title'] == 'xboxOne']) \n",
    "\n",
    "print(win_conversion, xbox_conversion)"
   ]
  },
  {
   "cell_type": "code",
   "execution_count": 55,
   "metadata": {},
   "outputs": [
    {
     "name": "stdout",
     "output_type": "stream",
     "text": [
      "Верная ли нулевая гипотеза о равенстве долей: False\n"
     ]
    }
   ],
   "source": [
    "import math\n",
    "from scipy.stats import norm\n",
    "\n",
    "n1_click = len(conversion_df[conversion_df['subsite_title'] == 'Windows 10'])\n",
    "\n",
    "n2_click = len(conversion_df[conversion_df['subsite_title'] == 'xboxOne']) \n",
    "\n",
    "# ctr\n",
    "p1 = win_conversion\n",
    "p2 = xbox_conversion\n",
    "\n",
    "p = ((p1*n1_click + p2*n2_click)/(n1_click + n2_click))\n",
    "\n",
    "# значение статистики критерия\n",
    "T_x = ((p1-p2)/math.sqrt(p*(1-p)*((1/n1_click) + (1/n2_click))))\n",
    "\n",
    "# квантиль уровня 0.95 нормального распределения\n",
    "z_095 = norm.ppf(0.95)\n",
    "\n",
    "print(\"Верная ли нулевая гипотеза о неравенстве долей: {}\".format(T_x > z_095))\n",
    "\n"
   ]
  },
  {
   "cell_type": "code",
   "execution_count": null,
   "metadata": {},
   "outputs": [],
   "source": []
  }
 ],
 "metadata": {
  "kernelspec": {
   "display_name": "Python 3",
   "language": "python",
   "name": "python3"
  },
  "language_info": {
   "codemirror_mode": {
    "name": "ipython",
    "version": 3
   },
   "file_extension": ".py",
   "mimetype": "text/x-python",
   "name": "python",
   "nbconvert_exporter": "python",
   "pygments_lexer": "ipython3",
   "version": "3.7.4"
  }
 },
 "nbformat": 4,
 "nbformat_minor": 4
}
