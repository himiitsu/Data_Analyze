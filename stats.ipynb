{
 "cells": [
  {
   "cell_type": "code",
   "execution_count": 5,
   "metadata": {},
   "outputs": [
    {
     "name": "stdout",
     "output_type": "stream",
     "text": [
      "z_05 = 3.5196317357436744, z_95 = 6.480368264256325\n"
     ]
    }
   ],
   "source": [
    "from scipy.stats import norm\n",
    "\n",
    "mu = 5\n",
    "sigma = 0.9\n",
    "\n",
    "z_05 = norm.ppf(0.05, mu, sigma)\n",
    "z_95 = norm.ppf(0.95, mu, sigma)\n",
    "\n",
    "print(f\"z_05 = {z_05}, z_95 = {z_95}\")"
   ]
  },
  {
   "cell_type": "code",
   "execution_count": 7,
   "metadata": {},
   "outputs": [
    {
     "name": "stdout",
     "output_type": "stream",
     "text": [
      "Оценка математического ожидания по выборке mu = [20.1488337641804, 35.845193698778]\n"
     ]
    }
   ],
   "source": [
    "import math\n",
    "\n",
    "mu = 5\n",
    "sigma = 0.9\n",
    "D = 1\n",
    "X = [13.27543316, 18.60619498, 28.64266817, 45.4103895, 10.08409655,\n",
    "     44.91948425, 47.23376343, 33.03988962, 31.45570219, 3.089313523]\n",
    "\n",
    "# используйте функцию ppf для нахождения квантили\n",
    "alpha = 0.05\n",
    "n = len(X)\n",
    "exp_mean = 0\n",
    "\n",
    "for i in X:\n",
    "    exp_mean = exp_mean + i\n",
    "    \n",
    "z_alpha = norm.ppf(alpha, exp_mean/n, sigma)\n",
    "z_rev_alpha = norm.ppf(1-alpha, exp_mean/n, sigma)\n",
    "\n",
    "left_border = exp_mean/n - z_alpha*(math.sqrt(sigma**2/n))\n",
    "right_border = exp_mean/n + z_rev_alpha*(math.sqrt(sigma**2/n))\n",
    "print(f\"Оценка математического ожидания по выборке mu = [{left_border}, {right_border}]\")"
   ]
  },
  {
   "cell_type": "code",
   "execution_count": 61,
   "metadata": {},
   "outputs": [
    {
     "name": "stdout",
     "output_type": "stream",
     "text": [
      "0.77\n"
     ]
    }
   ],
   "source": [
    "import pickle\n",
    "\n",
    "with open('/Users/mig/Downloads/pool_sample.pkl', 'rb') as f:\n",
    "    pool_data = pickle.load(f)\n",
    "# ---- ВАШ КОД ТУТ ---\n",
    "\n",
    "t = 0\n",
    "f = 0\n",
    "\n",
    "for i in pool_data:\n",
    "    if(i == 1):\n",
    "        t = t + 1\n",
    "    else:\n",
    "        f = f + 1\n",
    "\n",
    "conversion = t/(t+f)\n",
    "\n",
    "print(conversion)\n",
    "\n",
    "# --------------------"
   ]
  },
  {
   "cell_type": "code",
   "execution_count": 117,
   "metadata": {},
   "outputs": [
    {
     "data": {
      "text/plain": [
       "1067.0718946372572"
      ]
     },
     "execution_count": 117,
     "metadata": {},
     "output_type": "execute_result"
    }
   ],
   "source": [
    "def representative_sample_size(alpha, delta, p=None):\n",
    "    \"\"\"Функция для расчёта объёма репрезентативной выборки\n",
    "    \n",
    "    :param alpha: уровень доверия\n",
    "    :param delta: точность\n",
    "    :param p (list | int | None): теоретическая вероятность успеха \n",
    "    :return: \n",
    "    \"\"\"\n",
    "    \n",
    "    if not p:\n",
    "        p = 1/2\n",
    "    n = ((norm.ppf(1-alpha/2)/delta)**2)*p*(1-p)\n",
    "    \n",
    "    return n\n",
    "\n",
    "representative_sample_size(alpha=0.05, delta=0.03)"
   ]
  },
  {
   "cell_type": "code",
   "execution_count": 127,
   "metadata": {},
   "outputs": [
    {
     "name": "stdout",
     "output_type": "stream",
     "text": [
      "0.7176339285714286\n"
     ]
    }
   ],
   "source": [
    "p = 0.7\n",
    "\n",
    "pool_data = bernoulli.rvs(p, size=int(representative_sample_size(alpha=0.05, delta=0.03, p=p)))\n",
    "\n",
    "t = 0\n",
    "f = 0\n",
    "\n",
    "for i in pool_data:\n",
    "    if(i == 1):\n",
    "        t = t + 1\n",
    "    else:\n",
    "        f = f + 1\n",
    "\n",
    "conversion = t/(t+f)\n",
    "\n",
    "print(conversion)\n"
   ]
  },
  {
   "cell_type": "code",
   "execution_count": 135,
   "metadata": {},
   "outputs": [
    {
     "name": "stdout",
     "output_type": "stream",
     "text": [
      "Является ли отклонение значимым True\n"
     ]
    }
   ],
   "source": [
    "# Размер выборки\n",
    "n = 25\n",
    "# С.К.О.\n",
    "sigma = 0.5\n",
    "# Уровень доверия \n",
    "alpha = 0.95\n",
    "# Значение квантили\n",
    "z_095 = norm.ppf(alpha)\n",
    "# Ср. знач. в ген. совокупности\n",
    "global_mean = 3.075\n",
    "# Ср. знач. в эксперименте\n",
    "sample_mean = 2.8\n",
    "# Считаем статистику\n",
    "Z_x = (global_mean - sample_mean)/(sigma/(math.sqrt(n)))\n",
    "# Критическая область:\n",
    "Z_critical = 2.0423\n",
    "print(\"Является ли отклонение значимым {}\".format(Z_x > Z_critical))\n"
   ]
  },
  {
   "cell_type": "code",
   "execution_count": 137,
   "metadata": {},
   "outputs": [
    {
     "name": "stdout",
     "output_type": "stream",
     "text": [
      "Верная ли нулевая гипотеза о равенстве долей: True\n"
     ]
    }
   ],
   "source": [
    "#banner 1\n",
    "n1_click = 10000\n",
    "n1_installs = 500\n",
    "\n",
    "#banner 2\n",
    "n2_click = 10500\n",
    "n2_installs = 440\n",
    "\n",
    "# ctr\n",
    "p1 = n1_installs/n1_click\n",
    "p2 = n2_installs/n2_click\n",
    "\n",
    "p = ((p1*n1_click + p2*n2_click)/(n1_click + n2_click))\n",
    "\n",
    "# значение статистики критерия\n",
    "T_x = ((p1-p2)/math.sqrt(p*(1-p)*((1/n1_click) + (1/n2_click))))\n",
    "\n",
    "# квантиль уровня 0.95 нормального распределения\n",
    "z_095 = norm.ppf(0.95)\n",
    "\n",
    "print(\"Верная ли нулевая гипотеза о равенстве долей: {}\".format(T_x > z_095))\n",
    "\n"
   ]
  },
  {
   "cell_type": "code",
   "execution_count": null,
   "metadata": {},
   "outputs": [],
   "source": []
  }
 ],
 "metadata": {
  "kernelspec": {
   "display_name": "Python 3",
   "language": "python",
   "name": "python3"
  },
  "language_info": {
   "codemirror_mode": {
    "name": "ipython",
    "version": 3
   },
   "file_extension": ".py",
   "mimetype": "text/x-python",
   "name": "python",
   "nbconvert_exporter": "python",
   "pygments_lexer": "ipython3",
   "version": "3.7.4"
  }
 },
 "nbformat": 4,
 "nbformat_minor": 4
}
